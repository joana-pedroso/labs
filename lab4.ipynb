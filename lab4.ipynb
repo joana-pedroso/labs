{
 "cells": [
  {
   "cell_type": "markdown",
   "metadata": {},
   "source": [
    "Questão 1"
   ]
  },
  {
   "cell_type": "code",
   "execution_count": 1,
   "metadata": {},
   "outputs": [
    {
     "name": "stdout",
     "output_type": "stream",
     "text": [
      "[1000, 1100.0, 1210.0, 1331.0, 1464.1, 1610.51]\n"
     ]
    }
   ],
   "source": [
    "valueSales= 1000\n",
    "rate = 0.1\n",
    "years = 6\n",
    "lista=[]\n",
    "lista.append(valueSales)\n",
    "while years > 1:\n",
    "    value = lista[-1]\n",
    "    valueS = value + value* 0.1\n",
    "    lista.append(valueS)\n",
    "    years = years - 1\n",
    "print(lista)\n"
   ]
  },
  {
   "cell_type": "code",
   "execution_count": 4,
   "metadata": {},
   "outputs": [
    {
     "name": "stdout",
     "output_type": "stream",
     "text": [
      "[1000, 1100.0, 1210.0, 1331.0, 1464.1, 1610.51]\n"
     ]
    }
   ],
   "source": [
    "valueSales= 1000\n",
    "rate = 0.1\n",
    "years = 6\n",
    "lista=[]\n",
    "lista.append(valueSales)\n",
    "for i in range (years-1):\n",
    "    value = lista[-1]\n",
    "    valueS = value + value* 0.1\n",
    "    lista.append(valueS)\n",
    "print(lista)"
   ]
  },
  {
   "cell_type": "markdown",
   "metadata": {},
   "source": [
    "Questão 2"
   ]
  },
  {
   "cell_type": "code",
   "execution_count": 5,
   "metadata": {},
   "outputs": [
    {
     "name": "stdout",
     "output_type": "stream",
     "text": [
      "[300.00000000000006, 330.00000000000006, 363.00000000000006, 399.30000000000007, 439.23, 483.1530000000001]\n"
     ]
    }
   ],
   "source": [
    "margem = 0.7\n",
    "listaCost=[]\n",
    "for sale in lista :\n",
    "    cost = sale * (1-margem)\n",
    "    listaCost.append(cost)\n",
    "print(listaCost)"
   ]
  },
  {
   "cell_type": "code",
   "execution_count": null,
   "metadata": {},
   "outputs": [],
   "source": []
  },
  {
   "cell_type": "markdown",
   "metadata": {},
   "source": [
    "Questão 3"
   ]
  },
  {
   "cell_type": "code",
   "execution_count": 6,
   "metadata": {},
   "outputs": [
    {
     "name": "stdout",
     "output_type": "stream",
     "text": [
      "[700.0, 770.0, 847.0, 931.6999999999999, 1024.87, 1127.357]\n"
     ]
    }
   ],
   "source": [
    "Profits=[lista[i]-listaCost[i] for i in range (0,years)]\n",
    "print(Profits)"
   ]
  },
  {
   "cell_type": "code",
   "execution_count": 7,
   "metadata": {},
   "outputs": [
    {
     "name": "stdout",
     "output_type": "stream",
     "text": [
      "[700.0, 770.0, 847.0, 931.6999999999999, 1024.87, 1127.357]\n"
     ]
    }
   ],
   "source": [
    "Profits=[]\n",
    "years = 6\n",
    "for i in range (years):\n",
    "    Profits.append(lista[i]-listaCost[i])\n",
    "print(Profits)"
   ]
  },
  {
   "cell_type": "markdown",
   "metadata": {},
   "source": [
    "Questão 4"
   ]
  },
  {
   "cell_type": "code",
   "execution_count": 8,
   "metadata": {},
   "outputs": [
    {
     "name": "stdout",
     "output_type": "stream",
     "text": [
      "[200.0, 270.0, 347.0, 431.69999999999993, 524.8699999999999, 627.357]\n"
     ]
    }
   ],
   "source": [
    "margem = 0.7\n",
    "fixedCost = 500\n",
    "newProfit=[]\n",
    "for sale in lista:\n",
    "    profit=sale*margem - fixedCost\n",
    "    newProfit.append(profit)\n",
    "print(newProfit)"
   ]
  },
  {
   "cell_type": "markdown",
   "metadata": {},
   "source": [
    "Questão 5"
   ]
  },
  {
   "cell_type": "code",
   "execution_count": 9,
   "metadata": {},
   "outputs": [
    {
     "name": "stdout",
     "output_type": "stream",
     "text": [
      "[1331, 764, 570, 1591, 1416, 1169]\n"
     ]
    }
   ],
   "source": [
    "import random\n",
    "years = 6\n",
    "listaR=[] #criação da lista vazia\n",
    "while years > 0: #enquanto existem anos isto corre\n",
    "    r = random.randint(200,2000) #gera numero inteiro aleatorio\n",
    "    listaR.append(r) #adiciona esse numero aleatorio na lista\n",
    "    years = years - 1 #diminui-se nº de anos para preencher toda a lista\n",
    "print(listaR)"
   ]
  },
  {
   "cell_type": "markdown",
   "metadata": {},
   "source": [
    "Questão 6"
   ]
  },
  {
   "cell_type": "code",
   "execution_count": 10,
   "metadata": {},
   "outputs": [
    {
     "name": "stdout",
     "output_type": "stream",
     "text": [
      "[431.69999999999993, 34.799999999999955, -101.0, 613.6999999999998, 491.19999999999993, 318.29999999999995]\n"
     ]
    }
   ],
   "source": [
    "margem = 0.7\n",
    "fixedCost = 500\n",
    "newProfit = [] #criação da lista vazia\n",
    "for i in listaR:\n",
    "    value = (i * margem) - fixedCost #calculo do valor\n",
    "    newProfit.append(value) #adiciona o valor á lista\n",
    "print(newProfit)"
   ]
  },
  {
   "cell_type": "code",
   "execution_count": null,
   "metadata": {},
   "outputs": [],
   "source": []
  }
 ],
 "metadata": {
  "kernelspec": {
   "display_name": "Python 3",
   "language": "python",
   "name": "python3"
  },
  "language_info": {
   "codemirror_mode": {
    "name": "ipython",
    "version": 3
   },
   "file_extension": ".py",
   "mimetype": "text/x-python",
   "name": "python",
   "nbconvert_exporter": "python",
   "pygments_lexer": "ipython3",
   "version": "3.7.3"
  }
 },
 "nbformat": 4,
 "nbformat_minor": 2
}
