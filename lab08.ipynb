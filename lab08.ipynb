{
 "cells": [
  {
   "cell_type": "markdown",
   "metadata": {},
   "source": [
    "# Lab 8 \n",
    "\n",
    "A simple chatbot\n",
    "\n",
    "**1.** Create a function that asks the user his name and says Hello, John Doe\n",
    "\n",
    "**2.** Create a function called chat that ask the user what is his problem and will answer \"yes of course\"\n",
    "\n",
    "**3.** Create a function called chat that ask the user what is his problem and will answer randomly among 6 possible answers\n",
    "\n",
    "**4.** Put all together and improve\n"
   ]
  },
  {
   "cell_type": "markdown",
   "metadata": {},
   "source": [
    "**1.** Create a function that ask the user his name and says Hello, John Doe"
   ]
  },
  {
   "cell_type": "code",
   "execution_count": 1,
   "metadata": {},
   "outputs": [
    {
     "name": "stdout",
     "output_type": "stream",
     "text": [
      "Computador: Hi! What is your name?Joa\n",
      "User:  Joa\n",
      "Computador: Olá,  Joa\n"
     ]
    }
   ],
   "source": [
    "# Create a function that ask the user his name and says Hello, John Doe\n",
    "def hello():\n",
    "    name = \"\"\n",
    "    while name == \"\":\n",
    "        name=input(\"Computador: Hi! What is your name? \")\n",
    "    print(\"User: \", name)\n",
    "    print(\"Computador: Olá, \", name)\n",
    "hello()"
   ]
  },
  {
   "cell_type": "markdown",
   "metadata": {},
   "source": [
    "**2.** Create a function called chat that ask the user what is his problem and will answer \"yes of course\""
   ]
  },
  {
   "cell_type": "code",
   "execution_count": 2,
   "metadata": {},
   "outputs": [
    {
     "name": "stdout",
     "output_type": "stream",
     "text": [
      "Computador: What´s your problem ?u\n",
      "User: u\n",
      "Computador: Yes of course\n"
     ]
    }
   ],
   "source": [
    "# Create a function called chat that ask the user what is his problem and will answer \"yes of course\"\n",
    "def chat():\n",
    "    name =\"\"\n",
    "    while name == \"\":\n",
    "        name=input(\"Computador: What's your problem? \")\n",
    "    print(\"User:\", name)\n",
    "    print(\"Computador: Yes of course\")\n",
    "chat()"
   ]
  },
  {
   "cell_type": "markdown",
   "metadata": {},
   "source": [
    "**3.** Create a function called chat that ask the user what is his problem and will answer randomly among 6 possible answers"
   ]
  },
  {
   "cell_type": "code",
   "execution_count": 3,
   "metadata": {},
   "outputs": [
    {
     "name": "stdout",
     "output_type": "stream",
     "text": [
      "Computador: What´s your problem? buh\n",
      "User: buh\n",
      "Computador: Como estás?\n"
     ]
    }
   ],
   "source": [
    "# Create a function called chat that ask the user what is his problem and will answer randomly among 6 possible answers\n",
    "import random\n",
    "def chat1():\n",
    "    answers = [\"Tudo bem?\",\"Estou ocupado\",\"Agora não é possível\",\"Como estás?\",\"Buh\",\"Hey\"]\n",
    "    name =\"\"\n",
    "    while name == \"\":\n",
    "        name=input(\"Computador: What's your problem? \")\n",
    "    print(\"User:\", name)\n",
    "    print(\"Computador:\", random.choice(answers))\n",
    "chat1()"
   ]
  },
  {
   "cell_type": "markdown",
   "metadata": {},
   "source": [
    "**4.** Put all together and improve"
   ]
  },
  {
   "cell_type": "code",
   "execution_count": 4,
   "metadata": {},
   "outputs": [
    {
     "name": "stdout",
     "output_type": "stream",
     "text": [
      "Computador: Hi! What is your name?\n",
      "Computador: Hi! What is your name?JOana\n",
      "User:  JOana\n",
      "Computador: Olá,  JOana\n",
      "Computador: What´s your problem ?buh\n",
      "User: buh\n",
      "Computador: Yes of course\n",
      "Computador: What´s your problem? buh\n",
      "User: buh\n",
      "Computador: Tudo bem?\n"
     ]
    }
   ],
   "source": [
    "def hello():\n",
    "    name = \"\"\n",
    "    while name == \"\":\n",
    "        name=input(\"Computador: Hi! What is your name? \")\n",
    "    print(\"User: \", name)\n",
    "    print(\"Computador: Olá, \", name)\n",
    "hello()\n",
    "def chat():\n",
    "    name =\"\"\n",
    "    while name == \"\":\n",
    "        name=input(\"Computador: What's your problem? \")\n",
    "    print(\"User:\", name)\n",
    "    print(\"Computador: Yes of course\")\n",
    "chat()\n",
    "import random\n",
    "def chat1():\n",
    "    answers = [\"Tudo bem?\",\"Estou ocupado\",\"Agora não é possível\",\"Como estás?\",\"Buh\",\"Hey\"]\n",
    "    name =\"\"\n",
    "    while name == \"\":\n",
    "        name=input(\"Computador: What's your problem? \")\n",
    "    print(\"User:\", name)\n",
    "    print(\"Computador:\", random.choice(answers))\n",
    "chat1()"
   ]
  },
  {
   "cell_type": "code",
   "execution_count": null,
   "metadata": {},
   "outputs": [],
   "source": []
  }
 ],
 "metadata": {
  "kernelspec": {
   "display_name": "Python 3",
   "language": "python",
   "name": "python3"
  },
  "language_info": {
   "codemirror_mode": {
    "name": "ipython",
    "version": 3
   },
   "file_extension": ".py",
   "mimetype": "text/x-python",
   "name": "python",
   "nbconvert_exporter": "python",
   "pygments_lexer": "ipython3",
   "version": "3.7.3"
  }
 },
 "nbformat": 4,
 "nbformat_minor": 2
}
